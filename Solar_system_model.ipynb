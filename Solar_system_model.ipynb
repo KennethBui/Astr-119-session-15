{
 "cells": [
  {
   "cell_type": "code",
   "execution_count": 1,
   "metadata": {},
   "outputs": [],
   "source": [
    "%matplotlib inline\n",
    "import matplotlib.pyplot as plt\n",
    "import numpy as np\n",
    "from collections import namedtuple"
   ]
  },
  {
   "cell_type": "code",
   "execution_count": null,
   "metadata": {},
   "outputs": [],
   "source": [
    "class planet():\n",
    "    \"A planet in our solar system\"\n",
    "    def __init__(self,semimajor,eccentricity):\n",
    "        self.x   = np.zeros(2) #x and y position\n",
    "        self.v   = np.zeros(2) #x and y velocity\n",
    "        self.a_g = np.zeros(2) #x and y acceleration\n",
    "        sef.t   = 0.0          #current time\n",
    "        self.dt = 0.0          #current timestep\n",
    "        self.a = semimajor     #semimajor axis of the orbit\n",
    "        self.e = eccentricity  #ecentricity of the orbit\n",
    "        self.istep  = 0        #current integer timestep\n",
    "        self.name   = \"\"       #name for the planet"
   ]
  }
 ],
 "metadata": {
  "kernelspec": {
   "display_name": "Python 3",
   "language": "python",
   "name": "python3"
  },
  "language_info": {
   "codemirror_mode": {
    "name": "ipython",
    "version": 3
   },
   "file_extension": ".py",
   "mimetype": "text/x-python",
   "name": "python",
   "nbconvert_exporter": "python",
   "pygments_lexer": "ipython3",
   "version": "3.6.5"
  }
 },
 "nbformat": 4,
 "nbformat_minor": 2
}
